{
 "cells": [
  {
   "cell_type": "markdown",
   "metadata": {},
   "source": [
    "## 3回目での工夫\n",
    "- 前処理の工夫\n",
    "  - sibspとparchから同乗家族の数を作成するとどうだろう\n",
    "  - CabinはNaNの場合は0, それ以外は1としてるけど、頭文字からエリアを分けれるかも\n",
    "- モデルの工夫\n",
    "  - モデル自体はRandomForestで固定\n",
    "  - モデルのパラメータ調整\n",
    "- データ分析\n",
    "  - 女子供 と 男 では生存率が変わりそう\n",
    "\n",
    "\n",
    "## 4回目(今回)での工夫\n",
    "- 正規化、標準化などすれば変わるかもしれない\n",
    "- モデルのアンサンブル\n",
    "- 名前の情報から家族グループを作成して分析\n",
    "- Ticketは、値の形式が違うのが多いので、それぞれの値の意味を調べてみる"
   ]
  },
  {
   "cell_type": "code",
   "execution_count": 106,
   "metadata": {},
   "outputs": [],
   "source": [
    "import pandas as pd\n",
    "import numpy as np\n",
    "import seaborn as sns\n",
    "import matplotlib.pyplot as plt"
   ]
  },
  {
   "cell_type": "code",
   "execution_count": 107,
   "metadata": {},
   "outputs": [],
   "source": [
    "train_df = pd.read_csv(\"data/train.csv\")\n",
    "test_df = pd.read_csv(\"data/test.csv\")\n",
    "ex_df = pd.read_csv(\"data/gender_submission.csv\")"
   ]
  },
  {
   "cell_type": "code",
   "execution_count": 108,
   "metadata": {},
   "outputs": [],
   "source": [
    "# train_df, test_dfを結合\n",
    "test_df[\"Survived\"] = np.nan\n",
    "df = pd.concat([train_df, test_df], ignore_index=True)"
   ]
  },
  {
   "cell_type": "code",
   "execution_count": 109,
   "metadata": {},
   "outputs": [
    {
     "data": {
      "text/plain": [
       "Survived         418\n",
       "Age                0\n",
       "Fare               0\n",
       "FemaleOrChild      0\n",
       "Pclass_1           0\n",
       "Pclass_2           0\n",
       "Pclass_3           0\n",
       "Embarked_C         0\n",
       "Embarked_Q         0\n",
       "Embarked_S         0\n",
       "Cabin_A            0\n",
       "Cabin_B            0\n",
       "Cabin_C            0\n",
       "Cabin_D            0\n",
       "Cabin_E            0\n",
       "Cabin_F            0\n",
       "Cabin_G            0\n",
       "Cabin_Missing      0\n",
       "Cabin_T            0\n",
       "Family             0\n",
       "dtype: int64"
      ]
     },
     "execution_count": 109,
     "metadata": {},
     "output_type": "execute_result"
    }
   ],
   "source": [
    "# 前処理\n",
    "# CabinはNaNの場合は0, それ以外は頭文字で分類\n",
    "df[\"Cabin\"] = df[\"Cabin\"].apply(lambda x: x[0] if pd.notnull(x) else \"Missing\")\n",
    "\n",
    "\n",
    "# Embarkedは欠損値はCで補完する\n",
    "df[\"Embarked\"] = df[\"Embarked\"].fillna(\"C\")\n",
    "\n",
    "# Fareは欠損値をPclass, Sex, Parch, SibSpの平均値で補完する\n",
    "df[\"Fare\"] = df[\"Fare\"].fillna(\n",
    "    df.groupby([\"Pclass\", \"Sex\", \"Parch\", \"SibSp\"])[\"Fare\"].transform(\"mean\")\n",
    ")\n",
    "\n",
    "\n",
    "# ------------------------------\n",
    "# Age を Pclass, Sex, Parch, SibSp からランダムフォレストで推定\n",
    "# ------------------------------\n",
    "from sklearn.ensemble import RandomForestRegressor\n",
    "\n",
    "\n",
    "age_df = df[[\"Age\", \"Pclass\", \"Sex\", \"Parch\", \"SibSp\"]]\n",
    "age_df = pd.get_dummies(age_df, columns=[\"Pclass\", \"Sex\"])\n",
    "\n",
    "# 学習データとテストデータに分離\n",
    "known_age = age_df[age_df.Age.notnull()].values\n",
    "unknown_age = age_df[age_df.Age.isnull()].values\n",
    "\n",
    "# 学習データをX, yに分離\n",
    "X_train = known_age[:, 1:]\n",
    "y_train = known_age[:, 0]\n",
    "\n",
    "# ランダムフォレストで推定モデルを構築\n",
    "rfr = RandomForestRegressor(random_state=0, n_estimators=100, n_jobs=-1)\n",
    "rfr.fit(X_train, y_train)\n",
    "\n",
    "# Ageの補完\n",
    "predictedAges = rfr.predict(unknown_age[:, 1::])\n",
    "df.loc[(df.Age.isnull()), \"Age\"] = predictedAges\n",
    "\n",
    "# # 年齢別生存曲線と死亡曲線\n",
    "# facet = sns.FacetGrid(df[0:890], hue=\"Survived\", aspect=2)\n",
    "# facet.map(sns.kdeplot, \"Age\", shade=True)\n",
    "# facet.set(xlim=(0, df.loc[0:, \"Age\"].max()))\n",
    "# facet.add_legend()\n",
    "# plt.show()\n",
    "# ------------------------------------------------------------------\n",
    "\n",
    "# 不要な列を削除\n",
    "df.drop([\"Name\", \"Ticket\"], axis=1, inplace=True)\n",
    "\n",
    "# 女子または16歳未満の場合は1, それ以外は0\n",
    "df[\"FemaleOrChild\"] = df.apply(\n",
    "    lambda row: (\n",
    "        1\n",
    "        if ((pd.notnull(row[\"Age\"]) and row[\"Age\"] < 16) or row[\"Sex\"] == \"female\")\n",
    "        else 0\n",
    "    ),\n",
    "    axis=1,\n",
    ")\n",
    "\n",
    "# ワンホットエンコーディング\n",
    "df = pd.get_dummies(df, columns=[\"Pclass\", \"Embarked\", \"Cabin\"])\n",
    "\n",
    "# 家族の数を計算\n",
    "df[\"Family\"] = df[\"SibSp\"] + df[\"Parch\"]\n",
    "\n",
    "# 不要な列を削除\n",
    "df.drop([\"PassengerId\", \"Sex\", \"SibSp\", \"Parch\"], axis=1, inplace=True)\n",
    "\n",
    "df.isnull().sum()\n",
    "# 前処理終了"
   ]
  },
  {
   "cell_type": "code",
   "execution_count": null,
   "metadata": {},
   "outputs": [],
   "source": [
    "from sklearn.model_selection import train_test_split\n",
    "\n",
    "# データの分割\n",
    "known_data = df[df.Survived.notnull()]\n",
    "X_known = known_data.drop(\"Survived\", axis=1).values\n",
    "y_known = known_data[\"Survived\"].values\n",
    "X_train, X_valid, y_train, y_valid = train_test_split(X_known, y_known, random_state=0)"
   ]
  },
  {
   "cell_type": "code",
   "execution_count": 114,
   "metadata": {},
   "outputs": [
    {
     "name": "stdout",
     "output_type": "stream",
     "text": [
      "Fitting 5 folds for each of 216 candidates, totalling 1080 fits\n",
      "Best parameters: {'bootstrap': True, 'max_depth': 10, 'min_samples_leaf': 2, 'min_samples_split': 2, 'n_estimators': 50}\n",
      "Best cross-validation accuracy: 0.8293569745258669\n",
      "Validation Accuracy: 0.8341\n"
     ]
    }
   ],
   "source": [
    "from sklearn.ensemble import RandomForestClassifier\n",
    "from sklearn.model_selection import GridSearchCV\n",
    "\n",
    "# パラメータ調整\n",
    "param_grid = {\n",
    "    \"n_estimators\": [50, 100, 200],\n",
    "    \"max_depth\": [None, 10, 20, 30],\n",
    "    \"min_samples_split\": [2, 5, 10],\n",
    "    \"min_samples_leaf\": [1, 2, 4],\n",
    "    \"bootstrap\": [True, False],\n",
    "}\n",
    "\n",
    "rf = RandomForestClassifier(random_state=0)\n",
    "grid_search = GridSearchCV(\n",
    "    estimator=rf,\n",
    "    param_grid=param_grid,\n",
    "    cv=5,\n",
    "    scoring=\"accuracy\",\n",
    "    n_jobs=-1,\n",
    "    verbose=1,\n",
    ")\n",
    "grid_search.fit(X_train, y_train)\n",
    "print(\"Best parameters:\", grid_search.best_params_)\n",
    "print(\"Best cross-validation accuracy:\", grid_search.best_score_)\n",
    "\n",
    "# RandomForest\n",
    "model = RandomForestClassifier(random_state=0, **grid_search.best_params_)\n",
    "model.fit(X_train, y_train)\n",
    "\n",
    "score = model.score(X_valid, y_valid)\n",
    "print(\"Validation Accuracy: {:.4f}\".format(score))"
   ]
  },
  {
   "cell_type": "code",
   "execution_count": 115,
   "metadata": {},
   "outputs": [
    {
     "name": "stderr",
     "output_type": "stream",
     "text": [
      "/var/folders/f_/5hh5787972x33swmy27z8q0m0000gn/T/ipykernel_87657/385611444.py:5: SettingWithCopyWarning: \n",
      "A value is trying to be set on a copy of a slice from a DataFrame.\n",
      "Try using .loc[row_indexer,col_indexer] = value instead\n",
      "\n",
      "See the caveats in the documentation: https://pandas.pydata.org/pandas-docs/stable/user_guide/indexing.html#returning-a-view-versus-a-copy\n",
      "  submit[\"Survived\"] = model.predict(X_unknown).astype(int)\n"
     ]
    }
   ],
   "source": [
    "# 提出用データの作成\n",
    "unknown_data = df[df.Survived.isnull()]\n",
    "X_unknown = unknown_data.drop(\"Survived\", axis=1).values\n",
    "submit = test_df[[\"PassengerId\"]]\n",
    "submit[\"Survived\"] = model.predict(X_unknown).astype(int)\n",
    "submit.to_csv(\"submit4.csv\", index=False)"
   ]
  }
 ],
 "metadata": {
  "kernelspec": {
   "display_name": ".venv",
   "language": "python",
   "name": "python3"
  },
  "language_info": {
   "codemirror_mode": {
    "name": "ipython",
    "version": 3
   },
   "file_extension": ".py",
   "mimetype": "text/x-python",
   "name": "python",
   "nbconvert_exporter": "python",
   "pygments_lexer": "ipython3",
   "version": "3.10.15"
  }
 },
 "nbformat": 4,
 "nbformat_minor": 2
}
